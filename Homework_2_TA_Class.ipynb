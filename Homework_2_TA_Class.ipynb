{
  "nbformat": 4,
  "nbformat_minor": 0,
  "metadata": {
    "colab": {
      "provenance": [],
      "authorship_tag": "ABX9TyP5wNRzILiwoNmxDmqKKH84",
      "include_colab_link": true
    },
    "kernelspec": {
      "name": "python3",
      "display_name": "Python 3"
    },
    "language_info": {
      "name": "python"
    }
  },
  "cells": [
    {
      "cell_type": "markdown",
      "metadata": {
        "id": "view-in-github",
        "colab_type": "text"
      },
      "source": [
        "<a href=\"https://colab.research.google.com/github/ucchol/lecture0/blob/master/Homework_2_TA_Class.ipynb\" target=\"_parent\"><img src=\"https://colab.research.google.com/assets/colab-badge.svg\" alt=\"Open In Colab\"/></a>"
      ]
    },
    {
      "cell_type": "markdown",
      "source": [
        "**Problem 1:** \n",
        "\n",
        "Write a program that asks the user for the following information: [Points: 50]\n",
        "\n",
        "a. Name\n",
        "\n",
        "b. Number of times they’ve visited Starbucks in a month (int)\n",
        "\n",
        "c. Price of the drink (float)\n",
        "\n",
        "Then, calculate the total amount they have spent in a year. Print output in the following format:\n",
        "\n",
        "“Wow [A]! You have spent $[Total] on Starbucks!”"
      ],
      "metadata": {
        "id": "f-z3iy2O7ajl"
      }
    },
    {
      "cell_type": "code",
      "source": [
        "Name= input(\"Please enter the name:\")\n",
        "Number= int(input(\"Number of times in a month:\"))\n",
        "price= float(input(\"Price of the coffee: \"))\n",
        "#total = Number*12*price\n",
        "\n",
        "#Printing the desired line\n",
        "print(\"“Wow \" + Name + \"! You have spent $\" + str(Number*12*price) + \" on Starbucks!\")"
      ],
      "metadata": {
        "id": "sNhI98zv7dVZ",
        "colab": {
          "base_uri": "https://localhost:8080/"
        },
        "outputId": "88fcc1b9-8926-47f7-f993-f9656317fc81"
      },
      "execution_count": null,
      "outputs": [
        {
          "output_type": "stream",
          "name": "stdout",
          "text": [
            "Please enter the name:Asif\n",
            "Number of times in a month:23\n",
            "Price of the coffee: 3.5\n",
            "“Wow Asif! You have spent $966.0 on Starbucks!\n"
          ]
        }
      ]
    },
    {
      "cell_type": "markdown",
      "source": [
        "**Problem 2**\n",
        "\n",
        "Write a Python program to read temperature in Celsius and then convert it into\n",
        "Fahrenheit and then display a suitable message according to temperature state below:\n",
        "\n",
        " [Points: 50]\n",
        "\n",
        "• Temp < 20 then “Freezing weather\"\n",
        "\n",
        "• Temp 20-35 then “Very Cold weather”\n",
        "\n",
        "• Temp 35-50 then “Cold weather”\n",
        "\n",
        "• Temp 50-70 then “Normal in Temp”\n",
        "\n",
        "• Temp 70-90 then “It’s Hot”\n",
        "\n",
        "• Temp >=90 then Its “Very Hot”"
      ],
      "metadata": {
        "id": "GWIE2XbjARJ7"
      }
    },
    {
      "cell_type": "code",
      "source": [
        "def fahrenheit(temp):\n",
        "  celsius= (temp-32) * 5/9\n",
        "  print(\"Tempetrature in celsius: \", celsius)\n",
        "\n",
        "fahrenheit(33)\n"
      ],
      "metadata": {
        "id": "6nptMQp2AsCA",
        "colab": {
          "base_uri": "https://localhost:8080/"
        },
        "outputId": "62b7471d-69f8-4e94-d37e-a9101768a136"
      },
      "execution_count": null,
      "outputs": [
        {
          "output_type": "stream",
          "name": "stdout",
          "text": [
            "Tempetrature in celsius:  0.5555555555555556\n"
          ]
        }
      ]
    },
    {
      "cell_type": "code",
      "source": [
        "temp= int(input(\"Please enter temperature in Celcius:\"))\n",
        "\n",
        "Fahrenheit= (temp * 9/5) + 32\n",
        "print(\"Tempetrature in Fahrenheit: \", Fahrenheit)\n",
        "\n",
        "\n",
        "#satisfying the conditions\n",
        "\n",
        "if Fahrenheit < 20:\n",
        "  print(\"Freezing weather\")\n",
        "elif Fahrenheit >=20 and Fahrenheit <=35:\n",
        "  print(\"Very Cold weather\")\n",
        "elif Fahrenheit >=35 and Fahrenheit <=50:\n",
        "  print(\"Cold weather\")\n",
        "elif Fahrenheit >=50 and Fahrenheit <=70:\n",
        "  print(\"Normal in Temp\")\n",
        "elif Fahrenheit >=70 and Fahrenheit <=90:\n",
        "  print(\"It’s Hot\")\n",
        "else:\n",
        "  print(\"Very Hot\")"
      ],
      "metadata": {
        "id": "isI1xlRTB23D",
        "colab": {
          "base_uri": "https://localhost:8080/"
        },
        "outputId": "7dd0a7d4-87da-4956-ec5a-fbb0baf79e33"
      },
      "execution_count": null,
      "outputs": [
        {
          "output_type": "stream",
          "name": "stdout",
          "text": [
            "Please enter temperature in Celcius:32\n",
            "Tempetrature in Fahrenheit:  89.6\n",
            "It’s Hot\n"
          ]
        }
      ]
    }
  ]
}