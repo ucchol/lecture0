{
  "nbformat": 4,
  "nbformat_minor": 0,
  "metadata": {
    "colab": {
      "provenance": [],
      "authorship_tag": "ABX9TyMSbGOcpJm5I8Bc49LioKgp",
      "include_colab_link": true
    },
    "kernelspec": {
      "name": "python3",
      "display_name": "Python 3"
    },
    "language_info": {
      "name": "python"
    }
  },
  "cells": [
    {
      "cell_type": "markdown",
      "metadata": {
        "id": "view-in-github",
        "colab_type": "text"
      },
      "source": [
        "<a href=\"https://colab.research.google.com/github/ucchol/lecture0/blob/master/TA_Class_nested_loops_02162023.ipynb\" target=\"_parent\"><img src=\"https://colab.research.google.com/assets/colab-badge.svg\" alt=\"Open In Colab\"/></a>"
      ]
    },
    {
      "cell_type": "markdown",
      "source": [
        "# NESTED LOOPS"
      ],
      "metadata": {
        "id": "loNVwzXWA05r"
      }
    },
    {
      "cell_type": "code",
      "execution_count": 34,
      "metadata": {
        "colab": {
          "base_uri": "https://localhost:8080/"
        },
        "id": "OjHFL8mr5JdP",
        "outputId": "706db263-7bc9-475e-fc5e-6f8960e55e86"
      },
      "outputs": [
        {
          "output_type": "stream",
          "name": "stdout",
          "text": [
            "1 11 12 13 14 15 2 11 12 13 14 15 3 11 12 13 14 15 4 11 12 13 14 15 "
          ]
        }
      ],
      "source": [
        "for i in range(1, 5):          # printing 1 to 4 in outer loop\n",
        "  print(i, end=\" \")\n",
        "  for j in range(11, 16):      # printing 11 to 15 in inner loop\n",
        "    print(j, end=\" \")"
      ]
    },
    {
      "cell_type": "code",
      "source": [
        "for i in range(1, 11):\n",
        "  print(\"Hello!\", end=\" \")"
      ],
      "metadata": {
        "colab": {
          "base_uri": "https://localhost:8080/"
        },
        "id": "LctOAaXk8mE-",
        "outputId": "06b37bac-df44-48aa-bd5a-57243f9b2476"
      },
      "execution_count": 8,
      "outputs": [
        {
          "output_type": "stream",
          "name": "stdout",
          "text": [
            "Hello! Hello! Hello! Hello! Hello! Hello! Hello! Hello! Hello! Hello! "
          ]
        }
      ]
    },
    {
      "cell_type": "code",
      "source": [
        "#only printing for add number\n",
        "for i in range(1, 11, 2):\n",
        "  print(\"Hello!\", end=\" \")"
      ],
      "metadata": {
        "colab": {
          "base_uri": "https://localhost:8080/"
        },
        "id": "rhQA8Dah9CDp",
        "outputId": "c152036a-94d8-44b8-8c76-e3595206b0e0"
      },
      "execution_count": 13,
      "outputs": [
        {
          "output_type": "stream",
          "name": "stdout",
          "text": [
            "Hello! Hello! Hello! Hello! Hello! "
          ]
        }
      ]
    },
    {
      "cell_type": "code",
      "source": [
        "i=1\n",
        "while (i<=10):\n",
        "  print(i, end= \" \")\n",
        "  #i+=1\n",
        "  i+=2 #printing odd"
      ],
      "metadata": {
        "colab": {
          "base_uri": "https://localhost:8080/"
        },
        "id": "uZNesy7a9HLT",
        "outputId": "da2cb425-794d-440c-9333-f124bac37261"
      },
      "execution_count": 16,
      "outputs": [
        {
          "output_type": "stream",
          "name": "stdout",
          "text": [
            "1 3 5 7 9 "
          ]
        }
      ]
    },
    {
      "cell_type": "code",
      "source": [
        "for i in range(1, 4):\n",
        "  for j in range(1, 4):\n",
        "    print(i, j)"
      ],
      "metadata": {
        "colab": {
          "base_uri": "https://localhost:8080/"
        },
        "id": "QLhR3s7N94RM",
        "outputId": "0872d554-c6eb-4b35-8062-f1c0ebacf127"
      },
      "execution_count": 23,
      "outputs": [
        {
          "output_type": "stream",
          "name": "stdout",
          "text": [
            "1 1\n",
            "1 2\n",
            "1 3\n",
            "2 1\n",
            "2 2\n",
            "2 3\n",
            "3 1\n",
            "3 2\n",
            "3 3\n"
          ]
        }
      ]
    },
    {
      "cell_type": "code",
      "source": [
        "#printing only inner loop\n",
        "\n",
        "for i in range(1, 4):\n",
        "  for j in range(1, 4):\n",
        "    print(j, end= \" \")"
      ],
      "metadata": {
        "colab": {
          "base_uri": "https://localhost:8080/"
        },
        "id": "bBHZuLWx_Nmu",
        "outputId": "7b7d70eb-a47e-4968-d377-2871f8c646c8"
      },
      "execution_count": 32,
      "outputs": [
        {
          "output_type": "stream",
          "name": "stdout",
          "text": [
            "1 2 3 1 2 3 1 2 3 "
          ]
        }
      ]
    },
    {
      "cell_type": "markdown",
      "source": [
        "# LISTS"
      ],
      "metadata": {
        "id": "xJQ4Ywi2AyA3"
      }
    },
    {
      "cell_type": "markdown",
      "source": [
        "Lists are used to store multiple values in a single variable. Lists are one of the four built in data type in python. Others are: set, tuples, dictionary\n",
        "\n",
        "*   Lists allow duplicate values\n",
        "*   Lists items are indexed, the first item has index [0], the second item has index [1] and so on.\n",
        "\n"
      ],
      "metadata": {
        "id": "qvazqVetA87v"
      }
    },
    {
      "cell_type": "code",
      "source": [
        "#creating a list\n",
        "mylist= [1,5,8,23,2,56]\n",
        "print(type(mylist))  #checking the datatype\n",
        "print(mylist)        #printing the list elements\n",
        "mylist2= ['apple', 'banana', 'cucumber', 'orange']  #creating a list of strings\n",
        "print(mylist2)\n",
        "mylist3= [1,2,3,4, 'apple', 6] #creating a list with int and string, which we can't do in Java and C\n",
        "print(mylist3)"
      ],
      "metadata": {
        "colab": {
          "base_uri": "https://localhost:8080/"
        },
        "id": "pRB-r5n6AS9k",
        "outputId": "ada9ef9c-bfde-4cd9-df7b-72923636fefb"
      },
      "execution_count": 40,
      "outputs": [
        {
          "output_type": "stream",
          "name": "stdout",
          "text": [
            "<class 'list'>\n",
            "[1, 5, 8, 23, 2, 56]\n",
            "['apple', 'banana', 'cucumber', 'orange']\n",
            "[1, 2, 3, 4, 'apple', 6]\n"
          ]
        }
      ]
    },
    {
      "cell_type": "code",
      "source": [
        "#printing a particular element from a list\n",
        "print(mylist3[4])  #lists starts from index 0\n",
        "print(mylist2[0], mylist2[3])  #printing multiple index values\n"
      ],
      "metadata": {
        "colab": {
          "base_uri": "https://localhost:8080/"
        },
        "id": "qHzmRhbNDICw",
        "outputId": "41e7132b-1c40-4279-e5f8-49c86a6ba6ff"
      },
      "execution_count": 47,
      "outputs": [
        {
          "output_type": "stream",
          "name": "stdout",
          "text": [
            "apple\n",
            "apple orange\n"
          ]
        }
      ]
    },
    {
      "cell_type": "code",
      "source": [
        "#multiple input in list with loops with append\n",
        "\n",
        "marks=[]\n",
        "print(\"Please enter marks for five subjects: \")\n",
        "for i in range(5):  #i value 0,1,2,3,4\n",
        "  x=input()\n",
        "  marks.append(x)   #append will transfer the value to the list\n",
        "\n",
        "print(marks)"
      ],
      "metadata": {
        "colab": {
          "base_uri": "https://localhost:8080/"
        },
        "id": "_qgM1OEIEn3q",
        "outputId": "37d42950-5576-4052-e7b6-a0a53e715f59"
      },
      "execution_count": 53,
      "outputs": [
        {
          "output_type": "stream",
          "name": "stdout",
          "text": [
            "Please enter marks for five subjects: \n",
            "78\n",
            "45\n",
            "45\n",
            "45\n",
            "93\n",
            "['78', '45', '45', '45', '93']\n"
          ]
        }
      ]
    },
    {
      "cell_type": "code",
      "source": [
        "#mixing with other list\n",
        "\n",
        "marks=[]\n",
        "print(\"Please enter marks for three subjects: \")\n",
        "for i in range(3):  #i value 0,1,2\n",
        "  x=input()\n",
        "  marks.append(x)   #append will transfer the value to the list\n",
        "\n",
        "marks2=[86, 94]\n",
        "marks= marks + marks2\n",
        "print(marks)"
      ],
      "metadata": {
        "colab": {
          "base_uri": "https://localhost:8080/"
        },
        "id": "C1xcLeAXG_Pk",
        "outputId": "efe7d267-eb90-4a81-92c8-c3680d31a8fd"
      },
      "execution_count": 62,
      "outputs": [
        {
          "output_type": "stream",
          "name": "stdout",
          "text": [
            "Please enter marks for three subjects: \n",
            "67\n",
            "66\n",
            "65\n",
            "['67', '66', '65', 86, 94]\n"
          ]
        }
      ]
    },
    {
      "cell_type": "code",
      "source": [
        "#remove(\"itemname\")\n",
        "\n",
        "subjects=[]\n",
        "print(\"Please enter four subjects: \")\n",
        "for i in range(4):  #i value 0,1,2,3\n",
        "  x=input()\n",
        "  subjects.append(x)   #append will transfer the value to the list\n",
        "\n",
        "print(subjects)"
      ],
      "metadata": {
        "colab": {
          "base_uri": "https://localhost:8080/"
        },
        "id": "-DYxuGAaH7rq",
        "outputId": "2311d857-245a-4ad3-ab4f-5305049d4d6a"
      },
      "execution_count": null,
      "outputs": [
        {
          "output_type": "stream",
          "name": "stdout",
          "text": [
            "Please enter four subjects: \n"
          ]
        }
      ]
    }
  ]
}