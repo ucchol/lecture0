{
  "nbformat": 4,
  "nbformat_minor": 0,
  "metadata": {
    "colab": {
      "provenance": [],
      "authorship_tag": "ABX9TyOfQImKlpo4Wt//1GxeXlMR",
      "include_colab_link": true
    },
    "kernelspec": {
      "name": "python3",
      "display_name": "Python 3"
    },
    "language_info": {
      "name": "python"
    }
  },
  "cells": [
    {
      "cell_type": "markdown",
      "metadata": {
        "id": "view-in-github",
        "colab_type": "text"
      },
      "source": [
        "<a href=\"https://colab.research.google.com/github/ucchol/lecture0/blob/master/TA_Class_grading.ipynb\" target=\"_parent\"><img src=\"https://colab.research.google.com/assets/colab-badge.svg\" alt=\"Open In Colab\"/></a>"
      ]
    },
    {
      "cell_type": "code",
      "execution_count": null,
      "metadata": {
        "colab": {
          "base_uri": "https://localhost:8080/"
        },
        "id": "r0ijlc9sVKtE",
        "outputId": "0e09bf31-862a-422a-b4ce-400f19b741a7"
      },
      "outputs": [
        {
          "output_type": "stream",
          "name": "stdout",
          "text": [
            "What is the model of your car?accord\n",
            "How many miles do you get on a full tank?100\n",
            "How much is a gallon of gas?2\n",
            "How much does it cost to fill up your tank?50\n",
            "Amazing, your accord has an average of 4.0 per gallon!\n",
            "You spent 0.5 cents to drive one mile.\n"
          ]
        }
      ],
      "source": [
        "model=(input(\"What is the model of your car?\"))#asking for model of car\n",
        "miles=int(input(\"How many miles do you get on a full tank?\"))#asking for miles on a full tank then converting to integer\n",
        "gas=int(input(\"How much is a gallon of gas?\"))#price per gallon then converting to integer\n",
        "total=int(input(\"How much does it cost to fill up your tank?\"))#total cost to fill up then converting to integer\n",
        "fulltank=total/gas#dividing the total by the gas to get the full tank value\n",
        "mpg=miles/fulltank#dividing the miles by the new fulltank value to get the mpg\n",
        "print(\"Amazing, your\",(model), \"has an average of\", (mpg), \"per gallon!\")\n",
        "total=total*4#multiplying the total by 4 to account for ammount spent in a month\n",
        "miles=miles*4#multiplying by 4 to account for miles driven in a month\n",
        "ppm=total/miles#dividing the total by miles to get the price per mile\n",
        "print(\"You spent\", (ppm), \"cents to drive one mile.\")"
      ]
    },
    {
      "cell_type": "code",
      "source": [
        "#bmi in kg\n",
        "\n",
        "weight= float(input(\"Please enter the weight(kg): \"))\n",
        "height= float(input(\"Please enter the height(inch): \"))\n",
        "height_m=height/39.37      #need to conver inch to meter\n",
        "\n",
        "bmi_kg=weight/height_m**2\n",
        "print(bmi_kg)"
      ],
      "metadata": {
        "colab": {
          "base_uri": "https://localhost:8080/"
        },
        "id": "h6prqarfiOsx",
        "outputId": "a53ab076-517b-4ce7-fdb1-2d059dcb4471"
      },
      "execution_count": null,
      "outputs": [
        {
          "output_type": "stream",
          "name": "stdout",
          "text": [
            "Please enter the weight: 78\n",
            "Please enter the height(inch): 64\n",
            "29.516542529296867\n"
          ]
        }
      ]
    },
    {
      "cell_type": "code",
      "source": [
        "#bmi in lb\n",
        "\n",
        "weight= float(input(\"Please enter the weight: \"))\n",
        "height= float(input(\"Please enter the height(inch): \"))\n",
        "bmi= 703*weight / height**2\n",
        "print(bmi)"
      ],
      "metadata": {
        "colab": {
          "base_uri": "https://localhost:8080/"
        },
        "id": "42BBrB15jUZz",
        "outputId": "631251e8-2241-4d41-9f18-af103184ae2a"
      },
      "execution_count": null,
      "outputs": [
        {
          "output_type": "stream",
          "name": "stdout",
          "text": [
            "Please enter the weight: 181.6\n",
            "Please enter the height(inch): 65\n",
            "30.21652071005917\n"
          ]
        }
      ]
    },
    {
      "cell_type": "code",
      "source": [
        "Name_Patient=input(\"What is the name of the patient? \") \n",
        "Age_Patient=input(\"What is the age of the patient? \")\n",
        "Height_Patient=float(input(\"What is the height of the patient (in) ? \"))\n",
        "i=int(input(\"Press 1 for kilograms and 2 for pounds:\"))\n",
        "\n",
        "if(i==1):\n",
        "  #bmi in kg\n",
        "\n",
        "  weight= float(input(\"Please enter the weight(kg): \"))\n",
        "  height_m=Height_Patient/39.37      #need to conver inch to meter\n",
        "\n",
        "  bmi_kg=weight/height_m**2\n",
        "  print(bmi_kg)\n",
        "elif (i==2):\n",
        "  weight= float(input(\"Please enter the weight(lb): \"))\n",
        "  bmi= 703*weight / Height_Patient**2\n",
        "  print(bmi)\n",
        "else:\n",
        "  print(\"please choose 1 or 2\")\n"
      ],
      "metadata": {
        "colab": {
          "base_uri": "https://localhost:8080/"
        },
        "id": "1nygSCT4juln",
        "outputId": "feac0b1a-d3d5-4914-8afb-e3945cf0e7e2"
      },
      "execution_count": null,
      "outputs": [
        {
          "output_type": "stream",
          "name": "stdout",
          "text": [
            "What is the name of the patient? asif\n",
            "What is the age of the patient? 29\n",
            "What is the height of the patient (in) ? 65\n",
            "Press 1 for kilograms and 2 for pounds:2\n",
            "Please enter the weight(lb): 181.6\n",
            "30.21652071005917\n"
          ]
        }
      ]
    }
  ]
}