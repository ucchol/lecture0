{
  "nbformat": 4,
  "nbformat_minor": 0,
  "metadata": {
    "colab": {
      "provenance": [],
      "authorship_tag": "ABX9TyNo2p+GNaejhrUKVYJqY7s1",
      "include_colab_link": true
    },
    "kernelspec": {
      "name": "python3",
      "display_name": "Python 3"
    },
    "language_info": {
      "name": "python"
    }
  },
  "cells": [
    {
      "cell_type": "markdown",
      "metadata": {
        "id": "view-in-github",
        "colab_type": "text"
      },
      "source": [
        "<a href=\"https://colab.research.google.com/github/ucchol/lecture0/blob/master/TA_Class_Loops_02142023.ipynb\" target=\"_parent\"><img src=\"https://colab.research.google.com/assets/colab-badge.svg\" alt=\"Open In Colab\"/></a>"
      ]
    },
    {
      "cell_type": "code",
      "execution_count": null,
      "metadata": {
        "colab": {
          "base_uri": "https://localhost:8080/"
        },
        "id": "_lbyCHa-oGxD",
        "outputId": "f5e087b5-c39d-45b3-fa51-a06ddde82934"
      },
      "outputs": [
        {
          "output_type": "stream",
          "name": "stdout",
          "text": [
            "1 2 3 4 5 6 7 8 9 10 11 12 13 14 15 16 17 18 19 20 21 22 23 24 25 26 27 28 29 30 31 32 33 34 35 36 37 38 39 40 41 42 43 44 45 46 47 48 49 50 51 52 53 54 55 56 57 58 59 60 61 62 63 64 65 66 67 68 69 70 71 72 73 74 75 76 77 78 79 80 81 82 83 84 85 86 87 88 89 90 91 92 93 94 95 96 97 98 99 100 "
          ]
        }
      ],
      "source": [
        "#print  1 to 100\n",
        "for i in range(1, 101):\n",
        "  print(i, end=' ')"
      ]
    },
    {
      "cell_type": "code",
      "source": [
        "#print 1 to 10\n",
        "for i in range(1, 11):\n",
        "  print(i, end=\" \")"
      ],
      "metadata": {
        "colab": {
          "base_uri": "https://localhost:8080/"
        },
        "id": "etu3uECEpAhH",
        "outputId": "a06c014a-c804-4323-843b-daf87bbb6baf"
      },
      "execution_count": null,
      "outputs": [
        {
          "output_type": "stream",
          "name": "stdout",
          "text": [
            "1 2 3 4 5 6 7 8 9 10 "
          ]
        }
      ]
    },
    {
      "cell_type": "code",
      "source": [
        "#while loop\n",
        "x=1\n",
        "while x<=20:\n",
        "  print(x, end=\" \")\n",
        "  x+=2 #odd numbers"
      ],
      "metadata": {
        "colab": {
          "base_uri": "https://localhost:8080/"
        },
        "id": "3siQewJqpUhG",
        "outputId": "f74ea353-342e-403b-9c3a-0bdeb69d1371"
      },
      "execution_count": null,
      "outputs": [
        {
          "output_type": "stream",
          "name": "stdout",
          "text": [
            "1 4 7 10 13 16 19 "
          ]
        }
      ]
    },
    {
      "cell_type": "code",
      "source": [
        "#while loop divisible by 3\n",
        "x=1\n",
        "while x<=20:\n",
        "  if (x%3)==0:\n",
        "    print(x, end=\" \")\n",
        "  x+=1 #increment by 1"
      ],
      "metadata": {
        "colab": {
          "base_uri": "https://localhost:8080/"
        },
        "id": "9lZkYgXsrmpt",
        "outputId": "c03fc308-6a16-4706-e6e2-1674301d6074"
      },
      "execution_count": null,
      "outputs": [
        {
          "output_type": "stream",
          "name": "stdout",
          "text": [
            "3 6 9 12 15 18 "
          ]
        }
      ]
    },
    {
      "cell_type": "code",
      "source": [
        "#print all the even numbers between 1 and 11 and add them\n",
        "x=2\n",
        "sum=0\n",
        "while x<=11:\n",
        "  print(x, end=\" \")\n",
        "  sum +=x\n",
        "  x+=2\n",
        "  #sum +=x\n",
        "print(\"\\n Sum: \", sum)"
      ],
      "metadata": {
        "colab": {
          "base_uri": "https://localhost:8080/"
        },
        "id": "LY4J56oSs5gA",
        "outputId": "8dfd6499-627b-433c-9d34-0640be47aae7"
      },
      "execution_count": null,
      "outputs": [
        {
          "output_type": "stream",
          "name": "stdout",
          "text": [
            "2 4 6 8 10 \n",
            " Sum:  30\n"
          ]
        }
      ]
    },
    {
      "cell_type": "code",
      "source": [
        "#break statement\n",
        "x=1\n",
        "while x<=10:\n",
        "  print(x, end=\" \")\n",
        "  if(x%7)==0:\n",
        "    break\n",
        "  x+=1"
      ],
      "metadata": {
        "colab": {
          "base_uri": "https://localhost:8080/"
        },
        "id": "8G6HCNuEvRm1",
        "outputId": "8c6749db-fd49-4927-b151-48290a5abd1c"
      },
      "execution_count": null,
      "outputs": [
        {
          "output_type": "stream",
          "name": "stdout",
          "text": [
            "1 2 3 4 5 6 7 "
          ]
        }
      ]
    },
    {
      "cell_type": "code",
      "source": [
        "#continue statement\n",
        "x=0\n",
        "while x<10:\n",
        "  x+=1\n",
        "  if(x==5):\n",
        "    continue\n",
        "  print(x, end=\" \")"
      ],
      "metadata": {
        "colab": {
          "base_uri": "https://localhost:8080/"
        },
        "id": "PUDXzLIfw--6",
        "outputId": "ee5b6a3c-19ca-44b5-fd7c-6c57bce2dd07"
      },
      "execution_count": null,
      "outputs": [
        {
          "output_type": "stream",
          "name": "stdout",
          "text": [
            "1 2 3 4 6 7 8 9 10 "
          ]
        }
      ]
    },
    {
      "cell_type": "code",
      "source": [
        "#for loop\n",
        "for i in range(1,11,2):   #(lower range, upper range, increment)\n",
        "  print(i, end=\" \")"
      ],
      "metadata": {
        "colab": {
          "base_uri": "https://localhost:8080/"
        },
        "id": "kPoLFZfzzfqC",
        "outputId": "2470ac21-ff0f-4477-bd88-911acfc65186"
      },
      "execution_count": null,
      "outputs": [
        {
          "output_type": "stream",
          "name": "stdout",
          "text": [
            "1 3 5 7 9 "
          ]
        }
      ]
    },
    {
      "cell_type": "code",
      "source": [
        "#for loop for n natural number\n",
        "n= int(input(\"please enter a number: \"))\n",
        "sum=0\n",
        "for i in range(1, n+1):\n",
        "  sum+=i\n",
        "print(\"Sum of all the numbers: \",sum)"
      ],
      "metadata": {
        "colab": {
          "base_uri": "https://localhost:8080/"
        },
        "id": "JZesA43D0YOu",
        "outputId": "d4be0342-ee16-43a1-b92b-78f75fe05197"
      },
      "execution_count": null,
      "outputs": [
        {
          "output_type": "stream",
          "name": "stdout",
          "text": [
            "please enter a number: 111\n",
            "Sum of all the numbers:  6216\n"
          ]
        }
      ]
    },
    {
      "cell_type": "code",
      "source": [
        "#sum of all the digits in a number\n",
        "\n",
        "num = input(\"Please input a number: \")\n",
        "sum = 0\n",
        "for i in str(num):\n",
        "    sum += int(i)\n",
        "print(sum)"
      ],
      "metadata": {
        "colab": {
          "base_uri": "https://localhost:8080/"
        },
        "id": "f7b07ZzJ37sd",
        "outputId": "0312afef-91a5-457c-c066-aea5c9d1c61e"
      },
      "execution_count": null,
      "outputs": [
        {
          "output_type": "stream",
          "name": "stdout",
          "text": [
            "Please input a number: 88888\n",
            "40\n"
          ]
        }
      ]
    }
  ]
}