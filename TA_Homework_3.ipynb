{
  "nbformat": 4,
  "nbformat_minor": 0,
  "metadata": {
    "colab": {
      "provenance": [],
      "authorship_tag": "ABX9TyObVCug9EwiA4VmRg+L01RH",
      "include_colab_link": true
    },
    "kernelspec": {
      "name": "python3",
      "display_name": "Python 3"
    },
    "language_info": {
      "name": "python"
    }
  },
  "cells": [
    {
      "cell_type": "markdown",
      "metadata": {
        "id": "view-in-github",
        "colab_type": "text"
      },
      "source": [
        "<a href=\"https://colab.research.google.com/github/ucchol/lecture0/blob/master/TA_Homework_3.ipynb\" target=\"_parent\"><img src=\"https://colab.research.google.com/assets/colab-badge.svg\" alt=\"Open In Colab\"/></a>"
      ]
    },
    {
      "cell_type": "markdown",
      "source": [
        "# Problem 1: Write a Python program to count positive and negative numbers in a list using while loop. Take list elements from user as input. [Points: 30]"
      ],
      "metadata": {
        "id": "CTWBSXChVnRz"
      }
    },
    {
      "cell_type": "code",
      "execution_count": 18,
      "metadata": {
        "colab": {
          "base_uri": "https://localhost:8080/"
        },
        "id": "4FlLN2vvVjr4",
        "outputId": "6c5dd4af-6305-4821-c266-9932f535fa31"
      },
      "outputs": [
        {
          "output_type": "stream",
          "name": "stdout",
          "text": [
            "Please enter the number of elements for the list: 5\n",
            "Please enter number for list: 1\n",
            "Please enter number for list: -2\n",
            "Please enter number for list: 3\n",
            "Please enter number for list: -4\n",
            "Please enter number for list: 5\n",
            "The elements of the list are:  [1, -2, 3, -4, 5]\n",
            "\n",
            "\n",
            "The number of positive numbers in the list:  3\n",
            "The number of negative numbers in the list:  2\n"
          ]
        }
      ],
      "source": [
        "#taking input for a list element\n",
        "#num= int(input(\"Please enter number for list: \"))\n",
        "\n",
        "list= []\n",
        "n=int(input(\"Please enter the number of elements for the list: \"))\n",
        "for i in range(0, n):\n",
        "  num= int(input(\"Please enter number for list: \"))\n",
        "  list.append(num)\n",
        "print(\"The elements of the list are: \",list)\n",
        "\n",
        "print()\n",
        "\n",
        "pos_count=0\n",
        "neg_count=0\n",
        "i= 0\n",
        "while (i< len(list)):\n",
        "  if list[i] < 0:\n",
        "    neg_count +=1\n",
        "  elif list[i] >= 0:\n",
        "    pos_count +=1\n",
        "  i +=1\n",
        "\n",
        "print()\n",
        "\n",
        "print(\"The number of positive numbers in the list: \", pos_count)\n",
        "print(\"The number of negative numbers in the list: \", neg_count)"
      ]
    },
    {
      "cell_type": "markdown",
      "source": [
        "## Problem 2: Write a Python program to append a list element to the second list using for loop. Example: List1= [1,2,3,4], and List2= [3,5,9] then the final elements of List2 will be: List2=[1,2,3,4,3,5,9]"
      ],
      "metadata": {
        "id": "wV3DXqC_b2xe"
      }
    },
    {
      "cell_type": "code",
      "source": [
        "List1 = [1, 2, 3, 4]\n",
        "List2 = [3, 5, 9]\n",
        "\n",
        "for i in List2:\n",
        "    List1.append(i)\n",
        "\n",
        "print(List1)"
      ],
      "metadata": {
        "colab": {
          "base_uri": "https://localhost:8080/"
        },
        "id": "74eH9K7kcAOv",
        "outputId": "9c9e31fe-565e-4af5-ae71-bff434a66984"
      },
      "execution_count": 22,
      "outputs": [
        {
          "output_type": "stream",
          "name": "stdout",
          "text": [
            "[1, 2, 3, 4, 3, 5, 9]\n"
          ]
        }
      ]
    },
    {
      "cell_type": "markdown",
      "source": [
        "# Problem 4: Write a Python program to find common items from two lists.\n"
      ],
      "metadata": {
        "id": "DJWgZAGgdmex"
      }
    },
    {
      "cell_type": "code",
      "source": [
        "list1= []\n",
        "n=int(input(\"Please enter the number of elements for the list1: \"))\n",
        "for i in range(0, n):\n",
        "  num= int(input(\"Please enter number for list1: \"))\n",
        "  list1.append(num)\n",
        "print(\"The elements of the list are: \",list1)\n",
        "\n",
        "print()\n",
        "\n",
        "list2= []\n",
        "n=int(input(\"Please enter the number of elements for the list2: \"))\n",
        "for i in range(0, n):\n",
        "  num= int(input(\"Please enter number for list2: \"))\n",
        "  list2.append(num)\n",
        "print(\"The elements of the list are: \",list2)\n",
        "\n",
        "common_items= []\n",
        "for i in list1:\n",
        "  if i in list2:\n",
        "    common_items.append(i)\n",
        "\n",
        "print()\n",
        "\n",
        "print(\"The common items of the two lists are: \", common_items)\n",
        "\n",
        "print()\n",
        "\n",
        "count= 0\n",
        "for i in common_items:\n",
        "  count +=1\n",
        "print(\"The number of common elements are: \", count)"
      ],
      "metadata": {
        "colab": {
          "base_uri": "https://localhost:8080/"
        },
        "id": "CctZe4hld1tx",
        "outputId": "eb4d5d5b-510a-4e8b-f164-bf954360a621"
      },
      "execution_count": 28,
      "outputs": [
        {
          "output_type": "stream",
          "name": "stdout",
          "text": [
            "Please enter the number of elements for the list1: 6\n",
            "Please enter number for list1: 1\n",
            "Please enter number for list1: 2\n",
            "Please enter number for list1: 3\n",
            "Please enter number for list1: 4\n",
            "Please enter number for list1: 5\n",
            "Please enter number for list1: 6\n",
            "The elements of the list are:  [1, 2, 3, 4, 5, 6]\n",
            "\n",
            "Please enter the number of elements for the list2: 7\n",
            "Please enter number for list2: 3\n",
            "Please enter number for list2: 4\n",
            "Please enter number for list2: 5\n",
            "Please enter number for list2: 8\n",
            "Please enter number for list2: 2\n",
            "Please enter number for list2: 9\n",
            "Please enter number for list2: 1\n",
            "The elements of the list are:  [3, 4, 5, 8, 2, 9, 1]\n",
            "\n",
            "The common items of the two lists are:  [1, 2, 3, 4, 5]\n",
            "\n",
            "The number of common elements are:  5\n"
          ]
        }
      ]
    }
  ]
}