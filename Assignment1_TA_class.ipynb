{
  "nbformat": 4,
  "nbformat_minor": 0,
  "metadata": {
    "colab": {
      "provenance": [],
      "authorship_tag": "ABX9TyNvT8k/WzSCkC92dUzfzEnQ",
      "include_colab_link": true
    },
    "kernelspec": {
      "name": "python3",
      "display_name": "Python 3"
    },
    "language_info": {
      "name": "python"
    }
  },
  "cells": [
    {
      "cell_type": "markdown",
      "metadata": {
        "id": "view-in-github",
        "colab_type": "text"
      },
      "source": [
        "<a href=\"https://colab.research.google.com/github/ucchol/lecture0/blob/master/Assignment1_TA_class.ipynb\" target=\"_parent\"><img src=\"https://colab.research.google.com/assets/colab-badge.svg\" alt=\"Open In Colab\"/></a>"
      ]
    },
    {
      "cell_type": "markdown",
      "source": [
        "# Problem 1: Write a Python code that receives the name of a patient, age, weight (pounds or kilograms), and height and calculate the patient’s Body Mass Index.\n",
        "\n",
        "Formula: (weight (lb) / [height (in)] ^2 x 703) and display the result."
      ],
      "metadata": {
        "id": "n_Wgi-zbDgTQ"
      }
    },
    {
      "cell_type": "code",
      "source": [
        "Name= input(\"Please enter the patient name: \")\n",
        "Age= int(input(\"Please enter the patient's age: \"))\n",
        "weight= float(input(\"Please enter the patient's weight(lb): \"))\n",
        "height= float(input(\"Please enter the patient's height(inch): \"))\n",
        "\n",
        "#Body Mass Index. Formula: 703 x weight (lbs) / [height (in)]2\n",
        "\n",
        "print(\"\\n\")\n",
        "BMI= (703 * weight)/ height **2\n",
        "\n",
        "print(\"The BMI of \"+ Name + \" is \"+ str(\"%.3f\" % BMI))"
      ],
      "metadata": {
        "colab": {
          "base_uri": "https://localhost:8080/"
        },
        "id": "I1T86JWlDiXn",
        "outputId": "8f81231b-3844-4b7e-e8fc-f78dd243df28"
      },
      "execution_count": 7,
      "outputs": [
        {
          "output_type": "stream",
          "name": "stdout",
          "text": [
            "Please enter the patient name: a\n",
            "Please enter the patient's age: 31\n",
            "Please enter the patient's weight(lb): 176.6\n",
            "Please enter the patient's height(inch): 65\n",
            "\n",
            "\n",
            "The BMI of a is 29.385\n"
          ]
        }
      ]
    },
    {
      "cell_type": "markdown",
      "source": [
        "# Problem 2: Write a code that asks the user the following information: [25 points]\n",
        "\n",
        "➢ Car model\n",
        "\n",
        "➢ Miles driven in a full tank.\n",
        "\n",
        "➢ Gas cost (per gallon)\n",
        "\n",
        "➢ Cost to fill tank.\n",
        "\n",
        "Calculate the miles per gallon of the car and cost per mile. Display the output in the given format:\n",
        "\n",
        "Amazing! [Car] has an mpg of [MPG] per gallon!\n",
        "\n",
        "You spent [$xx] to drive one mile!"
      ],
      "metadata": {
        "id": "dTzsU70WGbYK"
      }
    },
    {
      "cell_type": "code",
      "source": [
        "model= input(\"Please enter the Car model: \")\n",
        "mileage= float(input(\"Please enter the Mileage: \"))\n",
        "cost= float(input(\"Gas cost (per gallon): \"))\n",
        "totalcost= cost * 19\n",
        "efficiency= float(input(\"Please enter the Mileage efficiency: \"))\n",
        "\n",
        "mpg= mileage/cost\n",
        "xx= efficiency/totalcost\n",
        "\n",
        "print(\"\\n\")\n",
        "print(\"Amazing!\"+ model + \" has an mpg of \"+ str(\"%.3f\" % mpg)+ \" per gallon!\")\n",
        "print(\"You spent \"+ str(\"%.3f\" % xx) + \" to drive one mile!\")"
      ],
      "metadata": {
        "colab": {
          "base_uri": "https://localhost:8080/"
        },
        "id": "-J9y8nG3GcJt",
        "outputId": "5d61e0da-c703-4b36-8320-26bc3bb1102a"
      },
      "execution_count": 11,
      "outputs": [
        {
          "output_type": "stream",
          "name": "stdout",
          "text": [
            "Please enter the Car model: camry 4\n",
            "Please enter the Mileage: 25\n",
            "Gas cost (per gallon): 2.2\n",
            "Please enter the Mileage efficiency: 27\n",
            "\n",
            "\n",
            "Amazing!camry 4 has an mpg of 11.364per gallon!\n",
            "You spent 0.646to drive one mile!\n"
          ]
        }
      ]
    },
    {
      "cell_type": "markdown",
      "source": [
        "# Problem 3: Write a Python code to check weather a given input number is divisible by 7 and 9 using logical operator and display the result:"
      ],
      "metadata": {
        "id": "wDeIgHbJKxsR"
      }
    },
    {
      "cell_type": "code",
      "source": [
        "num= int(input(\"Please enter a number: \"))\n",
        "#checking if condition for divisibility\n",
        "if (num%7) == (num%9):\n",
        "  print(\"The \"+ str(num)+ \" is divisible by both Seven and Nine\")\n",
        "else:\n",
        "  print(\"The \"+ str(num)+ \" is not divisible by Seven and Nine\")"
      ],
      "metadata": {
        "colab": {
          "base_uri": "https://localhost:8080/"
        },
        "id": "B7RuLFWHK1Zf",
        "outputId": "ffdaaa1f-893f-480b-901c-32cb7301cce3"
      },
      "execution_count": 18,
      "outputs": [
        {
          "output_type": "stream",
          "name": "stdout",
          "text": [
            "Please enter a number: 63\n",
            "The 63 is divisible by both Seven and Nine\n"
          ]
        }
      ]
    },
    {
      "cell_type": "markdown",
      "source": [
        "# Problem 4: Write python code that takes a user's exam, quiz, assignment, projects, reading scores as input and determines their overall grade for the course based on the following weights:\n",
        "quiz (10%), assignment (20%), project (20%), reading (20) and exam (30%). Print the user's overall\n",
        "grade based on the following scale: A (90-100), B (80-89), C (70-79), D (60-69), F (below 60)."
      ],
      "metadata": {
        "id": "ntuJBhznMtWY"
      }
    },
    {
      "cell_type": "code",
      "source": [
        "exam= float(input(\"Please enter the exam score: \"))\n",
        "quiz= float(input(\"Please enter the quiz score: \"))\n",
        "assignment= float(input(\"Please enter the assignment score: \"))\n",
        "project= float(input(\"Please enter the project score: \"))\n",
        "reading= float(input(\"Please enter the reading score: \"))\n",
        "\n",
        "total= 0.3*exam + 0.1*quiz + 0.2*assignment + 0.2*project + 0.2*reading\n",
        "print(\"Weighted total: \", total)\n",
        "\n",
        "#checking the grade\n",
        "if (total> 90):\n",
        "  print(\"Grade A\")\n",
        "elif (total> 80 and total<89):\n",
        "  print(\"Grade B\")\n",
        "elif (total> 70 and total<79):\n",
        "  print(\"Grade C\")\n",
        "elif (total> 60 and total<69):\n",
        "  print(\"Grade D\")\n",
        "elif (total< 60):\n",
        "  print(\"Grade F\")"
      ],
      "metadata": {
        "colab": {
          "base_uri": "https://localhost:8080/"
        },
        "id": "SWyq84zINAdc",
        "outputId": "726bbd06-0bb2-45f9-f9e6-668870388825"
      },
      "execution_count": 22,
      "outputs": [
        {
          "output_type": "stream",
          "name": "stdout",
          "text": [
            "Please enter the exam score: 56\n",
            "Please enter the quiz score: 89\n",
            "Please enter the assignment score: 77\n",
            "Please enter the project score: 98\n",
            "Please enter the reading score: 76\n",
            "Weighted total:  75.9\n",
            "Grade C\n"
          ]
        }
      ]
    },
    {
      "cell_type": "markdown",
      "source": [
        "# Problem 5: Write a program that takes a user's salary and determines their tax bracket based on the following scale: 0-45,000 (10% tax), 45,001-100,000 (20% tax), 100,001-140,000 (30% tax), and 140,001+ (35% tax). Print the user's tax bracket and the amount of tax they owe."
      ],
      "metadata": {
        "id": "B8rTsj6DQfgQ"
      }
    },
    {
      "cell_type": "code",
      "source": [
        "salary= float(input(\"Please enter the salary: \"))\n",
        "if (salary< 45000):\n",
        "  tax= salary* 0.1\n",
        "  print(\"The taxed amount is: \"+ str(tax) + \", Bracket: (10% tax)\")\n",
        "elif (salary> 45001 and salary< 100000):\n",
        "  tax= salary* 0.2\n",
        "  print(\"The taxed amount is: \"+ str(tax) + \", Bracket: (20% tax)\")\n",
        "elif (salary> 100001 and salary< 140000):\n",
        "  tax= salary* 0.3\n",
        "  print(\"The taxed amount is: \"+ str(tax) + \", Bracket: (30% tax)\")\n",
        "elif (salary> 140001):\n",
        "  tax= salary* 0.35\n",
        "  print(\"The taxed amount is: \"+ str(tax) + \", Bracket: (35% tax)\")"
      ],
      "metadata": {
        "colab": {
          "base_uri": "https://localhost:8080/"
        },
        "id": "PHtnuot1QsNc",
        "outputId": "1c4f6353-52a2-411f-ab30-d717b75ccecb"
      },
      "execution_count": 26,
      "outputs": [
        {
          "output_type": "stream",
          "name": "stdout",
          "text": [
            "Please enter the salary: 147000\n",
            "The taxed amount is: 51450.0, Bracket: (35% tax)\n"
          ]
        }
      ]
    }
  ]
}