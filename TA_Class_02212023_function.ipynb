{
  "nbformat": 4,
  "nbformat_minor": 0,
  "metadata": {
    "colab": {
      "provenance": [],
      "authorship_tag": "ABX9TyM2/GemCy96uKazGyyzpu34",
      "include_colab_link": true
    },
    "kernelspec": {
      "name": "python3",
      "display_name": "Python 3"
    },
    "language_info": {
      "name": "python"
    }
  },
  "cells": [
    {
      "cell_type": "markdown",
      "metadata": {
        "id": "view-in-github",
        "colab_type": "text"
      },
      "source": [
        "<a href=\"https://colab.research.google.com/github/ucchol/lecture0/blob/master/TA_Class_02212023_function.ipynb\" target=\"_parent\"><img src=\"https://colab.research.google.com/assets/colab-badge.svg\" alt=\"Open In Colab\"/></a>"
      ]
    },
    {
      "cell_type": "code",
      "execution_count": 8,
      "metadata": {
        "colab": {
          "base_uri": "https://localhost:8080/"
        },
        "id": "lQjxM_lUrBKo",
        "outputId": "6151f4de-ca95-4b08-e7c1-6f6f12e97609"
      },
      "outputs": [
        {
          "output_type": "stream",
          "name": "stdout",
          "text": [
            "Please input the value of a: 78\n",
            "Please input the value of b: 78\n",
            "The sum of the numbers are:  156.0\n"
          ]
        }
      ],
      "source": [
        "#function which will add two number\n",
        "\n",
        "def addition():    #function definition\n",
        "  a=float(input(\"Please input the value of a: \"))\n",
        "  b=float(input(\"Please input the value of b: \"))\n",
        "  add= a+b\n",
        "  print(\"The sum of the numbers are: \", add)\n",
        "\n",
        "addition()   #calling the function"
      ]
    },
    {
      "cell_type": "code",
      "source": [
        "#using parameter\n",
        "\n",
        "def addition(a, b):    #function definition\n",
        "  add= a+b\n",
        "  print(\"The sum of the numbers are: \", add)\n",
        "\n",
        "def mul(a, b):\n",
        "  mul=a *b\n",
        "  print(\"The multiplication of the numbers are: \", mul)\n",
        "\n",
        "a=float(input(\"Please input the value of a: \"))\n",
        "b=float(input(\"Please input the value of b: \"))\n",
        "\n",
        "addition(a, b)   #calling the function\n",
        "mul(a, b)"
      ],
      "metadata": {
        "colab": {
          "base_uri": "https://localhost:8080/"
        },
        "id": "hAlMjVdxvFu6",
        "outputId": "5ec60d90-2e33-4865-9a35-f95fd8200fab"
      },
      "execution_count": 17,
      "outputs": [
        {
          "output_type": "stream",
          "name": "stdout",
          "text": [
            "Please input the value of a: 5\n",
            "Please input the value of b: 5\n",
            "The sum of the numbers are:  10.0\n",
            "The multiplication of the numbers are:  25.0\n"
          ]
        }
      ]
    },
    {
      "cell_type": "code",
      "source": [
        "def addition(a, b):    #function definition\n",
        "  add= a+b\n",
        "  print(\"The sum of the numbers are: \", add)\n",
        "\n",
        "def mul(a, b):\n",
        "  mul=a *b\n",
        "  print(\"The multiplication of the numbers are: \", mul)\n",
        "\n",
        "a=float(input(\"Please input the value of a: \"))\n",
        "b=float(input(\"Please input the value of b: \"))\n",
        "\n",
        "i= int(input(\"Press 1 for addition for addition and 2 for multiplication: \")) \n",
        "if(i==1):\n",
        "  addition(a, b)\n",
        "elif(i==2):\n",
        "  mul(a, b)\n",
        "else:\n",
        "  print(\"Please choose 1 or 2\")"
      ],
      "metadata": {
        "colab": {
          "base_uri": "https://localhost:8080/"
        },
        "id": "TJALePCGwk4o",
        "outputId": "31eecc22-5f91-43e9-de73-78641d253504"
      },
      "execution_count": 16,
      "outputs": [
        {
          "output_type": "stream",
          "name": "stdout",
          "text": [
            "Please input the value of a: 4\n",
            "Please input the value of b: 5\n",
            "Press 1 for addition for addition and 2 for multiplication: 2\n",
            "The multiplication of the numbers are:  20.0\n"
          ]
        }
      ]
    },
    {
      "cell_type": "code",
      "source": [
        "#function using lists\n",
        "\n",
        "list1=[1,2,3,4,5,6]\n",
        "\n",
        "def total(x):\n",
        "  sum= 0\n",
        "  for i in x:\n",
        "    sum +=i\n",
        "  return sum\n",
        "\n",
        "y= total(list1) #function call with argument(pass a list)\n",
        "print(y)"
      ],
      "metadata": {
        "colab": {
          "base_uri": "https://localhost:8080/"
        },
        "id": "UCOGl7k7yPh0",
        "outputId": "b75dc576-67ab-487c-f4ac-c6b82d834ecd"
      },
      "execution_count": 22,
      "outputs": [
        {
          "output_type": "stream",
          "name": "stdout",
          "text": [
            "21\n"
          ]
        }
      ]
    },
    {
      "cell_type": "code",
      "source": [
        "#loops and lists\n",
        "\n",
        "mylist= [1, 4, 7, 8, 23, 45, 66]\n",
        "sum =0\n",
        "\n",
        "#adding all the even numbers\n",
        "for i in mylist:\n",
        "  if i%2 ==0:\n",
        "    sum +=i\n",
        "print(sum)\n",
        "\n",
        "#delete a number from the list\n",
        "for i in mylist:\n",
        "  if i==23:\n",
        "    mylist.remove(23)\n",
        "\n",
        "print(mylist)"
      ],
      "metadata": {
        "colab": {
          "base_uri": "https://localhost:8080/"
        },
        "id": "O-sPQUsR1_32",
        "outputId": "f16d19c7-c010-44d2-eb52-85b11257cfbb"
      },
      "execution_count": 25,
      "outputs": [
        {
          "output_type": "stream",
          "name": "stdout",
          "text": [
            "78\n",
            "[1, 4, 7, 8, 45, 66]\n"
          ]
        }
      ]
    }
  ]
}