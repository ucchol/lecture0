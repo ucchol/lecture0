{
  "nbformat": 4,
  "nbformat_minor": 0,
  "metadata": {
    "colab": {
      "provenance": [],
      "authorship_tag": "ABX9TyPHNHDnAV8oftqQkQElMDLB",
      "include_colab_link": true
    },
    "kernelspec": {
      "name": "python3",
      "display_name": "Python 3"
    },
    "language_info": {
      "name": "python"
    }
  },
  "cells": [
    {
      "cell_type": "markdown",
      "metadata": {
        "id": "view-in-github",
        "colab_type": "text"
      },
      "source": [
        "<a href=\"https://colab.research.google.com/github/ucchol/lecture0/blob/master/TA_Class_02232023.ipynb\" target=\"_parent\"><img src=\"https://colab.research.google.com/assets/colab-badge.svg\" alt=\"Open In Colab\"/></a>"
      ]
    },
    {
      "cell_type": "markdown",
      "source": [
        "# PRACTICE"
      ],
      "metadata": {
        "id": "5D6l3XW2ZNzC"
      }
    },
    {
      "cell_type": "markdown",
      "source": [
        "1. Write a Python function to check whether a number falls in a given range."
      ],
      "metadata": {
        "id": "1NQMJmqWZHWT"
      }
    },
    {
      "cell_type": "code",
      "execution_count": 12,
      "metadata": {
        "id": "5RxPufFPZBZQ"
      },
      "outputs": [],
      "source": [
        "def given_range(num, start, end):\n",
        "  for i in range(start, end+1):\n",
        "    if num ==i:\n",
        "      print(\"The number is in Range!!\")"
      ]
    },
    {
      "cell_type": "code",
      "source": [
        "given_range(5, 0, 10)"
      ],
      "metadata": {
        "colab": {
          "base_uri": "https://localhost:8080/"
        },
        "id": "7AaYZ9DBdrx-",
        "outputId": "d59aba83-81bb-451a-d909-398d78fc8be0"
      },
      "execution_count": 13,
      "outputs": [
        {
          "output_type": "stream",
          "name": "stdout",
          "text": [
            "The number is in Range!!\n"
          ]
        }
      ]
    },
    {
      "cell_type": "markdown",
      "source": [
        "2. Write a for loop which print \"Hello!, \" plus each name in the list. i.e.: \"Hello!, Sam”."
      ],
      "metadata": {
        "id": "i9E7zWQjenDm"
      }
    },
    {
      "cell_type": "code",
      "source": [
        "#First make a list with for loop\n",
        "list= []\n",
        "n= int(input(\"Please enter the number of names: \"))\n",
        "for i in range(0, n):\n",
        "  name= input(\"Please enter the name: \")\n",
        "  list.append(name)\n",
        "print(\"The names are: \", list)\n",
        "\n",
        "for i in list:\n",
        "  print(\"Hello!, \"+ i)"
      ],
      "metadata": {
        "colab": {
          "base_uri": "https://localhost:8080/"
        },
        "id": "J14BcMOceqoI",
        "outputId": "1cabad7c-16d5-43e3-a6e7-70e998e55c09"
      },
      "execution_count": 18,
      "outputs": [
        {
          "output_type": "stream",
          "name": "stdout",
          "text": [
            "Please enter the number of names: 5\n",
            "Please enter the name: dani\n",
            "Please enter the name: freya\n",
            "Please enter the name: lacy\n",
            "Please enter the name: lana\n",
            "Please enter the name: courtney\n",
            "The names are:  ['dani', 'freya', 'lacy', 'lana', 'courtney']\n",
            "Hello!, dani\n",
            "Hello!, freya\n",
            "Hello!, lacy\n",
            "Hello!, lana\n",
            "Hello!, courtney\n"
          ]
        }
      ]
    },
    {
      "cell_type": "markdown",
      "source": [
        "3. Write a for loop using an if statement, that appends each number to the new list if it's\n",
        "positive.\n"
      ],
      "metadata": {
        "id": "rVBd3wgdgQcN"
      }
    },
    {
      "cell_type": "code",
      "source": [
        "numbers = [-2, 5, 3, -1, 0, 7, -4, 8, -9]\n",
        "positive_numbers = []\n",
        "\n",
        "for i in numbers:\n",
        "  if i >=0:\n",
        "    positive_numbers.append(i)\n",
        "  print(\"The elements of the list are: \", positive_numbers)\n",
        "\n",
        "print()\n",
        "print(\"Final list: \", positive_numbers)"
      ],
      "metadata": {
        "colab": {
          "base_uri": "https://localhost:8080/"
        },
        "id": "NJG09xH6gVhm",
        "outputId": "fe466610-9075-42bb-ba4a-a6a456c9b27e"
      },
      "execution_count": 29,
      "outputs": [
        {
          "output_type": "stream",
          "name": "stdout",
          "text": [
            "The elements of the list are:  []\n",
            "The elements of the list are:  [5]\n",
            "The elements of the list are:  [5, 3]\n",
            "The elements of the list are:  [5, 3]\n",
            "The elements of the list are:  [5, 3, 0]\n",
            "The elements of the list are:  [5, 3, 0, 7]\n",
            "The elements of the list are:  [5, 3, 0, 7]\n",
            "The elements of the list are:  [5, 3, 0, 7, 8]\n",
            "The elements of the list are:  [5, 3, 0, 7, 8]\n",
            "\n",
            "Final list:  [5, 3, 0, 7, 8]\n"
          ]
        }
      ]
    },
    {
      "cell_type": "markdown",
      "source": [
        "4. Write a Python function to calculate the factorial of a given number."
      ],
      "metadata": {
        "id": "qs6-8GnfiXc7"
      }
    },
    {
      "cell_type": "code",
      "source": [
        "def factorial(num):\n",
        "  fact=1\n",
        "  for i in range(1, num+1):\n",
        "    fact *=i\n",
        "  return fact\n",
        "\n",
        "factorial(6)"
      ],
      "metadata": {
        "colab": {
          "base_uri": "https://localhost:8080/"
        },
        "id": "FVptNXtGiYSp",
        "outputId": "f2164b51-4b26-44f5-a501-9902b86efea0"
      },
      "execution_count": 41,
      "outputs": [
        {
          "output_type": "execute_result",
          "data": {
            "text/plain": [
              "720"
            ]
          },
          "metadata": {},
          "execution_count": 41
        }
      ]
    }
  ]
}