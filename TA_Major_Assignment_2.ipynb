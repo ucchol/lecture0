{
  "nbformat": 4,
  "nbformat_minor": 0,
  "metadata": {
    "colab": {
      "provenance": [],
      "authorship_tag": "ABX9TyP23ZHg4we6dSLmDzYPm2dR",
      "include_colab_link": true
    },
    "kernelspec": {
      "name": "python3",
      "display_name": "Python 3"
    },
    "language_info": {
      "name": "python"
    }
  },
  "cells": [
    {
      "cell_type": "markdown",
      "metadata": {
        "id": "view-in-github",
        "colab_type": "text"
      },
      "source": [
        "<a href=\"https://colab.research.google.com/github/ucchol/lecture0/blob/Assignment/TA_Major_Assignment_2.ipynb\" target=\"_parent\"><img src=\"https://colab.research.google.com/assets/colab-badge.svg\" alt=\"Open In Colab\"/></a>"
      ]
    },
    {
      "cell_type": "markdown",
      "source": [
        "Problem 1: Write a Python program to create two list by asking the size of list and elements from\n",
        "user as input and then print the common elements between two lists.\n",
        "Example:\n",
        "Input: List_A=[11, 2, 34, 4, 15, 6, 7] and List_B=[2, 23, 12, 6, 59]\n",
        "Output: [2, 6]"
      ],
      "metadata": {
        "id": "-XjjzAKRoxXd"
      }
    },
    {
      "cell_type": "code",
      "execution_count": null,
      "metadata": {
        "colab": {
          "base_uri": "https://localhost:8080/"
        },
        "id": "X_R6yK1Soqw-",
        "outputId": "32d0169e-a446-41a3-9f2b-1ee0c9816020"
      },
      "outputs": [
        {
          "output_type": "stream",
          "name": "stdout",
          "text": [
            "Enter the size of List A: 5\n",
            "Enter the size of List B: 5\n",
            "Enter elements of List A:\n",
            "1\n",
            "2\n",
            "3\n",
            "4\n",
            "5\n",
            "Enter elements of List B:\n",
            "3\n",
            "4\n",
            "5\n",
            "6\n",
            "7\n",
            "Common elements between List A and List B are:  [3, 4, 5]\n"
          ]
        }
      ],
      "source": [
        "# Taking input from user for list sizes\n",
        "size_a = int(input(\"Enter the size of List A: \"))\n",
        "size_b = int(input(\"Enter the size of List B: \"))\n",
        "\n",
        "# Taking input from user for elements of List A\n",
        "print(\"Enter elements of List A:\")\n",
        "list_a = []\n",
        "for i in range(size_a):\n",
        "    list_a.append(int(input()))\n",
        "\n",
        "# Taking input from user for elements of List B\n",
        "print(\"Enter elements of List B:\")\n",
        "list_b = []\n",
        "for i in range(size_b):\n",
        "    list_b.append(int(input()))\n",
        "\n",
        "# Finding common elements between List A and List B\n",
        "common_elements = []\n",
        "for i in list_a:\n",
        "    if i in list_b and i not in common_elements:\n",
        "        common_elements.append(i)\n",
        "\n",
        "# Printing the common elements\n",
        "print(\"Common elements between List A and List B are: \", common_elements)"
      ]
    },
    {
      "cell_type": "markdown",
      "source": [
        "Problem 2: Write a python function find_max() that takes a list of numbers as an argument and\n",
        "returns the maximum number in the list.\n",
        "\n",
        "NOTE: Do not use the built-in max() function\n",
        "Example:\n",
        "Input: [45, 23, 78, 37, 1, 89, 27]\n",
        "Output: 89"
      ],
      "metadata": {
        "id": "OaPbFjoOpThx"
      }
    },
    {
      "cell_type": "code",
      "source": [
        "def find_max(numbers):\n",
        "    max_num = numbers[0]   # Assume first number is maximum\n",
        "    for num in numbers:\n",
        "        if num > max_num:\n",
        "            max_num = num   # Update max_num if num is greater\n",
        "    return max_num\n",
        "\n",
        "numbers = [45, 23, 78, 37, 1, 89, 27]\n",
        "print(\"The maximum number in the list is:\", find_max(numbers))"
      ],
      "metadata": {
        "colab": {
          "base_uri": "https://localhost:8080/"
        },
        "id": "59D18RaZpYG1",
        "outputId": "db7f4fa2-9142-4d4a-9980-725396a98c2b"
      },
      "execution_count": null,
      "outputs": [
        {
          "output_type": "stream",
          "name": "stdout",
          "text": [
            "The maximum number in the list is: 89\n"
          ]
        }
      ]
    },
    {
      "cell_type": "markdown",
      "source": [
        "Problem 3: Write a function that takes in a list of numbers and length of list as arguments and\n",
        "returns the product of all the numbers in the list. Use a while loop to multiply each number in\n",
        "the list together. \n",
        "Example:\n",
        "Input: [1, 2, 4, 7]\n",
        "Output: 56"
      ],
      "metadata": {
        "id": "39lKe6pBp5-X"
      }
    },
    {
      "cell_type": "code",
      "source": [
        "def multiply_list(numbers, length):\n",
        "    product = 1\n",
        "    i = 0\n",
        "    while i < length:\n",
        "        product *= numbers[i]\n",
        "        i += 1\n",
        "    return product\n",
        "\n",
        "\n",
        "numbers = [1, 2, 4, 7]\n",
        "length = len(numbers)\n",
        "print(\"The product of all numbers in the list is:\", multiply_list(numbers, length))"
      ],
      "metadata": {
        "colab": {
          "base_uri": "https://localhost:8080/"
        },
        "id": "MdPWs0t0qAlx",
        "outputId": "ee175a6d-d650-4b23-e9f1-e8beb7be81d7"
      },
      "execution_count": null,
      "outputs": [
        {
          "output_type": "stream",
          "name": "stdout",
          "text": [
            "The product of all numbers in the list is: 56\n"
          ]
        }
      ]
    },
    {
      "cell_type": "markdown",
      "source": [
        "Problem 4: Write a Python program to count the number of lines in a text file."
      ],
      "metadata": {
        "id": "XFCyGkz9qVUO"
      }
    },
    {
      "cell_type": "code",
      "source": [
        "filename = input(\"Enter the name of the text file: \")\n",
        "\n",
        "num_lines = 0\n",
        "with open(filename, 'r') as file:\n",
        "    for line in file:\n",
        "        num_lines += 1\n",
        "\n",
        "print(\"The number of lines in the file is:\", num_lines)"
      ],
      "metadata": {
        "id": "0U25FlgaqWwO"
      },
      "execution_count": null,
      "outputs": []
    },
    {
      "cell_type": "markdown",
      "source": [
        "Problem 5: Write a Python program to create a list by asking the size of list and elements from\n",
        "user as input and then save all elements which are divisible by 5 in a file. \n",
        "\n",
        "Example:\n",
        "Input: List1= [11, 23, 34, 4, 15, 6, 70]\n",
        "Output: The file content will be: 15 70"
      ],
      "metadata": {
        "id": "670GDJOZqtB9"
      }
    },
    {
      "cell_type": "code",
      "source": [
        "# Taking input from user for list size\n",
        "size = int(input(\"Enter the size of the list: \"))\n",
        "\n",
        "# Taking input from user for elements of the list\n",
        "print(\"Enter elements of the list:\")\n",
        "list1 = []\n",
        "for i in range(size):\n",
        "    list1.append(int(input()))\n",
        "\n",
        "# Saving divisible by 5 elements in file\n",
        "with open('divisible_by_5.txt', 'w') as file:\n",
        "    for num in list1:\n",
        "        if num % 5 == 0:\n",
        "            file.write(str(num) + ' ')\n",
        "\n",
        "print(\"The file content will be:\", end=' ')\n",
        "with open('divisible_by_5.txt', 'r') as file:\n",
        "    print(file.read())"
      ],
      "metadata": {
        "colab": {
          "base_uri": "https://localhost:8080/"
        },
        "id": "VVNmdb6uq2IT",
        "outputId": "e893c42c-b3d3-43e1-97b5-f71d2a28a0d3"
      },
      "execution_count": 9,
      "outputs": [
        {
          "output_type": "stream",
          "name": "stdout",
          "text": [
            "Enter the size of the list: 7\n",
            "Enter elements of the list:\n",
            "1\n",
            "2\n",
            "3\n",
            "4\n",
            "5\n",
            "6\n",
            "7\n",
            "The file content will be: 5 \n"
          ]
        }
      ]
    }
  ]
}